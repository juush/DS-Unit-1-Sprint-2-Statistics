{
 "cells": [
  {
   "cell_type": "code",
   "execution_count": 2,
   "metadata": {
    "collapsed": true
   },
   "outputs": [
    {
     "data": {
      "text/plain": "color\nsize  amber  bronze  cobalt  total\nsmall           7       2       6     15\nmedium          8       4       3     15\nlarge           2       4       7     13\ntotal          17      10      16     43",
      "text/html": "<div>\n<style scoped>\n    .dataframe tbody tr th:only-of-type {\n        vertical-align: middle;\n    }\n\n    .dataframe tbody tr th {\n        vertical-align: top;\n    }\n\n    .dataframe thead th {\n        text-align: right;\n    }\n</style>\n<table border=\"1\" class=\"dataframe\">\n  <thead>\n    <tr style=\"text-align: right;\">\n      <th>color\nsize</th>\n      <th>amber</th>\n      <th>bronze</th>\n      <th>cobalt</th>\n      <th>total</th>\n    </tr>\n  </thead>\n  <tbody>\n    <tr>\n      <th>small</th>\n      <td>7</td>\n      <td>2</td>\n      <td>6</td>\n      <td>15</td>\n    </tr>\n    <tr>\n      <th>medium</th>\n      <td>8</td>\n      <td>4</td>\n      <td>3</td>\n      <td>15</td>\n    </tr>\n    <tr>\n      <th>large</th>\n      <td>2</td>\n      <td>4</td>\n      <td>7</td>\n      <td>13</td>\n    </tr>\n    <tr>\n      <th>total</th>\n      <td>17</td>\n      <td>10</td>\n      <td>16</td>\n      <td>43</td>\n    </tr>\n  </tbody>\n</table>\n</div>"
     },
     "execution_count": 2,
     "metadata": {},
     "output_type": "execute_result"
    }
   ],
   "source": [
    "#import libraries\n",
    "import pandas as pd\n",
    "\n",
    "#create dataframe\n",
    "data = [[7, 2, 6, 15], [8, 4, 3, 15], [2, 4, 7, 13], [17, 10, 16, 43]]\n",
    "df = pd.DataFrame(index=[\"small\", \"medium\", \"large\", \"total\"], columns=[\"amber\", \"bronze\", \"cobalt\", \"total\"], data=data)\n",
    "df.columns.name = \"color\\nsize\"\n",
    "df"
   ]
  },
  {
   "cell_type": "code",
   "execution_count": 16,
   "outputs": [
    {
     "name": "stdout",
     "output_type": "stream",
     "text": [
      "The probability of pulling a small amber marble is 16.0%\n",
      "The probability of pulling a large bronze marble is 9.0%\n",
      "The probability of pulling 2 amber marbles in a row is 15.0%\n"
     ]
    }
   ],
   "source": [
    "#calculating probability of picking a certain marble type\n",
    "#probability = total_number_of_type / total_number_of_all\n",
    "p_small_amber = df[\"amber\"][\"small\"] / df[\"total\"][\"total\"]\n",
    "print(f\"The probability of pulling a small amber marble is {(p_small_amber * 100).round()}%\")\n",
    "\n",
    "p_large_cobalt = df[\"bronze\"][\"large\"] / df[\"total\"][\"total\"]\n",
    "print(f\"The probability of pulling a large bronze marble is {(p_large_cobalt * 100).round()}%\")\n",
    "\n",
    "#calculating the probability of pulling the same marble twice\n",
    "p_two_small_amber = (df[\"amber\"][\"total\"] / df[\"total\"][\"total\"]) * ((df[\"amber\"][\"total\"] - 1) / (df[\"total\"][\"total\"] - 1))\n",
    "print(f\"The probability of pulling 2 amber marbles in a row is {(p_two_small_amber * 100).round()}%\")"
   ],
   "metadata": {
    "collapsed": false
   }
  }
 ],
 "metadata": {
  "kernelspec": {
   "display_name": "Python 3",
   "language": "python",
   "name": "python3"
  },
  "language_info": {
   "codemirror_mode": {
    "name": "ipython",
    "version": 2
   },
   "file_extension": ".py",
   "mimetype": "text/x-python",
   "name": "python",
   "nbconvert_exporter": "python",
   "pygments_lexer": "ipython2",
   "version": "2.7.6"
  }
 },
 "nbformat": 4,
 "nbformat_minor": 0
}
